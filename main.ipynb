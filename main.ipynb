{
 "cells": [
  {
   "cell_type": "markdown",
   "metadata": {},
   "source": [
    "# TDT17 - Main notebook\n",
    "\n",
    "This notebook contains the main code for the TDT17 project. See `preprocessing.ipynb` for the preprocessing code.\n",
    "We now assume that the `yolov5` repository is cloned in the same directory as this notebook, and that the data is located\n",
    "in the `yolodata` directory. `yolov5` assumes a `.yaml` file in the `yolov5/data` directory, which we recite below. \n",
    "This file tells the model where to find the data, and the classes to be used. It also assumes a `.yaml` file which tells \n",
    "the model what kind of pretrained weights to use. We use `yolov5s.yaml` in  this project, as it is small, but not too small.\n",
    "\n",
    "```yaml\n",
    "path: ../yolodata/train \n",
    "train: images/train  \n",
    "val: images/val  \n",
    "test: \"submission.txt\" \n",
    "\n",
    "names:\n",
    "  0: DOO\n",
    "  1: D10\n",
    "  2: D20\n",
    "  3: D40\n",
    "```\n",
    "\n",
    "Before going further in this notebook, a model has to be trained and saved. This is done in the command line, and \n",
    "when it is done, the model is loaded and used for the rest of the notebook.\n",
    "\n",
    "\n"
   ]
  },
  {
   "cell_type": "code",
   "execution_count": 3,
   "metadata": {},
   "outputs": [
    {
     "name": "stdout",
     "output_type": "stream",
     "text": [
      "^C\n"
     ]
    }
   ],
   "source": []
  }
 ],
 "metadata": {
  "kernelspec": {
   "display_name": "Python 3.9.13 ('kaggelbus')",
   "language": "python",
   "name": "python3"
  },
  "language_info": {
   "codemirror_mode": {
    "name": "ipython",
    "version": 3
   },
   "file_extension": ".py",
   "mimetype": "text/x-python",
   "name": "python",
   "nbconvert_exporter": "python",
   "pygments_lexer": "ipython3",
   "version": "3.9.13"
  },
  "orig_nbformat": 4,
  "vscode": {
   "interpreter": {
    "hash": "0399e37116b99af99d5871c47a55f1b01477500276ebc8ab9651050113d28ec3"
   }
  }
 },
 "nbformat": 4,
 "nbformat_minor": 2
}
