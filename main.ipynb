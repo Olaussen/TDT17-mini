{
 "cells": [
  {
   "cell_type": "markdown",
   "metadata": {},
   "source": [
    "# TDT17 Mini Project\n",
    "### Road Crack Detection\n",
    "\n",
    "The goal of this notebook is to help the road authorities in Trønderlag, Norway by detecting cracks in the road\n",
    "on provided images. The goal is to create a model that can detect cracks in the road, making it easier for the\n",
    "authorities to find and repair them. We will use the mean average precision (mAP) as a metric to evaluate the\n",
    "performance of our model.\n",
    "\n",
    "#### Importing libraries"
   ]
  },
  {
   "cell_type": "code",
   "execution_count": 73,
   "metadata": {},
   "outputs": [],
   "source": [
    "import pandas as pd\n",
    "import numpy as np\n",
    "from PIL import Image\n",
    "import matplotlib.pyplot as plt\n",
    "import torch\n",
    "import os\n",
    "import lxml.etree as ET"
   ]
  },
  {
   "cell_type": "markdown",
   "metadata": {},
   "source": [
    "#### Setting up data paths"
   ]
  },
  {
   "cell_type": "code",
   "execution_count": 74,
   "metadata": {},
   "outputs": [],
   "source": [
    "train_path = \"./Norway/train/\"\n",
    "test_path = \"./Norway/test/\"\n",
    "train_images_path = os.path.join(train_path, \"images\")\n",
    "test_images_path = os.path.join(test_path, \"images\")\n",
    "train_annotations_path = os.path.join(train_path, \"annotations/xmls\")"
   ]
  },
  {
   "cell_type": "markdown",
   "metadata": {},
   "source": [
    "#### Fetching data from file"
   ]
  },
  {
   "cell_type": "code",
   "execution_count": 78,
   "metadata": {},
   "outputs": [
    {
     "data": {
      "text/plain": [
       "{'image': {'path': './Norway/train/images\\\\Norway_000005.jpg',\n",
       "  'width': 3650,\n",
       "  'height': 2044},\n",
       " 'boxes': [{'type': 1, 'coords': (1140.27, 1164.62, 1280.35, 1199.79)},\n",
       "  {'type': 1, 'coords': (155.59, 1601.83, 777.02, 2034.32)},\n",
       "  {'type': 4, 'coords': (1190.21, 1354.48, 1290.52, 1406.12)},\n",
       "  {'type': 4, 'coords': (1286.54, 1427.97, 1376.92, 1455.78)},\n",
       "  {'type': 4, 'coords': (1472.27, 1202.5, 1550.7, 1232.32)},\n",
       "  {'type': 4, 'coords': (1768.56, 1154.2, 1806.72, 1166.62)},\n",
       "  {'type': 4, 'coords': (1756.32, 1466.71, 1810.94, 1497.49)},\n",
       "  {'type': 1, 'coords': (1780.15, 1116.96, 1807.55, 1143.44)},\n",
       "  {'type': 1, 'coords': (1649.16, 1530.54, 1748.22, 1862.11)},\n",
       "  {'type': 4, 'coords': (1215.69, 1498.17, 1330.67, 1544.51)},\n",
       "  {'type': 1, 'coords': (1345.11, 1122.55, 1538.99, 1192.21)},\n",
       "  {'type': 1, 'coords': (11.42, 1823.22, 154.04, 1917.61)},\n",
       "  {'type': 1, 'coords': (1583.06, 1139.79, 1637.62, 1170.14)}]}"
      ]
     },
     "execution_count": 78,
     "metadata": {},
     "output_type": "execute_result"
    }
   ],
   "source": [
    "def elem2dict(node, attributes=True):\n",
    "    \"\"\"\n",
    "    Convert an lxml.etree node tree into a dict.\n",
    "    \"\"\"\n",
    "    result = {}\n",
    "    if attributes:\n",
    "        for item in node.attrib.items():\n",
    "            key, result[key] = item\n",
    "\n",
    "    for element in node.iterchildren():\n",
    "        # Remove namespace prefix\n",
    "        key = element.tag.split('}')[1] if '}' in element.tag else element.tag\n",
    "\n",
    "        # Process element as tree element if the inner XML contains non-whitespace content\n",
    "        if element.text and element.text.strip():\n",
    "            value = element.text\n",
    "        else:\n",
    "            value = elem2dict(element)\n",
    "        if key in result:\n",
    "            if type(result[key]) is list:\n",
    "                result[key].append(value)\n",
    "            else:\n",
    "                result[key] = [result[key], value]\n",
    "        else:\n",
    "            result[key] = value\n",
    "    return result\n",
    "\n",
    "\n",
    "# Converting from xml to dictionary\n",
    "train_xml = [ET.parse(os.path.join(train_annotations_path, x)).getroot()\n",
    "             for x in os.listdir(train_annotations_path)]\n",
    "train_dicts = [elem2dict(x) for x in train_xml]\n",
    "\n",
    "# Converting from dictionary to valid data format\n",
    "\n",
    "\n",
    "def dict2data(dict):\n",
    "    holetypes = {\"D00\": 1, \"D10\": 2, \"D20\": 3, \"D40\": 4}\n",
    "    image = {\"path\": os.path.join(train_images_path, dict[\"filename\"]), \"width\": int(\n",
    "        dict[\"size\"][\"width\"]), \"height\": int(dict[\"size\"][\"height\"])}\n",
    "    boxes = []\n",
    "    if \"object\" in dict:\n",
    "        if not type(dict[\"object\"]) is list:\n",
    "            dict[\"object\"] = [dict[\"object\"]]\n",
    "        for object in dict[\"object\"]:\n",
    "            box = {}\n",
    "            box[\"type\"] = holetypes[object[\"name\"]]\n",
    "            box[\"coords\"] = (float(object[\"bndbox\"][\"xmin\"]),\n",
    "                              float(object[\"bndbox\"][\"ymin\"]),\n",
    "                              float(object[\"bndbox\"][\"xmax\"]),\n",
    "                              float(object[\"bndbox\"][\"ymax\"]))\n",
    "            boxes.append(box)\n",
    "    else:\n",
    "        boxes = {\"boxes\": []}\n",
    "    return {\"image\": image, \"boxes\": boxes}\n",
    "\n",
    "\n",
    "train_data = [dict2data(x) for x in train_dicts]"
   ]
  }
 ],
 "metadata": {
  "kernelspec": {
   "display_name": "Python 3.9.13 ('kaggelbus')",
   "language": "python",
   "name": "python3"
  },
  "language_info": {
   "codemirror_mode": {
    "name": "ipython",
    "version": 3
   },
   "file_extension": ".py",
   "mimetype": "text/x-python",
   "name": "python",
   "nbconvert_exporter": "python",
   "pygments_lexer": "ipython3",
   "version": "3.9.13"
  },
  "orig_nbformat": 4,
  "vscode": {
   "interpreter": {
    "hash": "0399e37116b99af99d5871c47a55f1b01477500276ebc8ab9651050113d28ec3"
   }
  }
 },
 "nbformat": 4,
 "nbformat_minor": 2
}
